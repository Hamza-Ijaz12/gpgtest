{
 "cells": [
  {
   "cell_type": "code",
   "execution_count": 9,
   "metadata": {},
   "outputs": [],
   "source": [
    "# utils.py\n",
    "import gnupg\n",
    "gpg = gnupg.GPG()"
   ]
  },
  {
   "cell_type": "code",
   "execution_count": 10,
   "metadata": {},
   "outputs": [],
   "source": [
    "def encrypt_message(public_key_path, message):\n",
    "    public_key = gpg.import_keys_file(public_key_path)\n",
    "    if not public_key.results or 'fingerprint' not in public_key.results[0]:\n",
    "        return \"Error importing public key\"\n",
    "\n",
    "    fingerprint = public_key.results[0]['fingerprint']\n",
    "    \n",
    "    # Encrypt the message \n",
    "    encrypted_data = gpg.encrypt(message, fingerprint,always_trust=True)\n",
    "    if encrypted_data.ok:\n",
    "        return str(encrypted_data)\n",
    "    else:\n",
    "        print('Encrypted message:', encrypted_data.status)\n",
    "        return str(encrypted_data.status)"
   ]
  },
  {
   "cell_type": "code",
   "execution_count": 11,
   "metadata": {},
   "outputs": [
    {
     "name": "stdout",
     "output_type": "stream",
     "text": [
      "-----BEGIN PGP MESSAGE-----\n",
      "\n",
      "hQEMAy3hNrAkdN+cAQf+NNb1sivaasfoiWPFFuAR6Urdh1fCZ1vC/bP06wkra4Y7\n",
      "S54XrigPKpCwfEFtjEFtHVlGejBs+uceKwOFs2fnQqOHW5whGvu/iFJ5LUKz9wQd\n",
      "ws3C/vMpFQf2dcu7of5NNdfbOH2iMNGHRA8Xqd8HJXtnjcfisKMAQl5tBOmX4B+E\n",
      "RRuPDSSF65kG7jVnRgaVerOyziMeuycz0cIzafFMzWa3jkr7CAdGlaHVZk6vOKmy\n",
      "Hu2EpKMfnHloE2rtl5aVhrXlyOEzHQRv3HtvZ6E4OCMkNjwEHPhIHUxN8ouVsXt8\n",
      "D2LpCov9CtkJUFQmy4Q1JPwiiq8cxPxz385DotlawNJAARo1dM9QbJP//42if4AP\n",
      "3nTZg8x9CGiPmv7mIszyjVLJ3dLLERc2XYaghkLDTTinMIdpn2a0mvNyILr3bupv\n",
      "zA==\n",
      "=EiBn\n",
      "-----END PGP MESSAGE-----\n",
      "\n"
     ]
    }
   ],
   "source": [
    "en_message = encrypt_message('1.asc',\"Hello world\")\n",
    "print(en_message)"
   ]
  },
  {
   "cell_type": "code",
   "execution_count": 12,
   "metadata": {},
   "outputs": [],
   "source": [
    "def decrypt_message( encrypted_message, passphrase,privatekey):\n",
    "    private_key = gpg.import_keys_file(privatekey)\n",
    "    if not private_key.results or 'fingerprint' not in private_key.results[0]:\n",
    "        return \"Error importing public key\"\n",
    "\n",
    "    fingerprint = private_key.results[0]['fingerprint']\n",
    "    decrypted_data = gpg.decrypt(encrypted_message, passphrase=passphrase)\n",
    "    if decrypted_data.ok:\n",
    "        return str(decrypted_data)\n",
    "    else:\n",
    "        print('Encrypted message:', decrypted_data.status)\n",
    "        print('Decryption failed:', decrypted_data.status)\n",
    "        print('Error message:', decrypted_data.stderr)\n",
    "        decrypted_data=False\n",
    "        return decrypted_data"
   ]
  },
  {
   "cell_type": "code",
   "execution_count": 13,
   "metadata": {},
   "outputs": [
    {
     "name": "stdout",
     "output_type": "stream",
     "text": [
      "Hello world\n"
     ]
    }
   ],
   "source": [
    "print(decrypt_message(en_message,'mykey','2p.asc'))"
   ]
  }
 ],
 "metadata": {
  "kernelspec": {
   "display_name": "env",
   "language": "python",
   "name": "python3"
  },
  "language_info": {
   "codemirror_mode": {
    "name": "ipython",
    "version": 3
   },
   "file_extension": ".py",
   "mimetype": "text/x-python",
   "name": "python",
   "nbconvert_exporter": "python",
   "pygments_lexer": "ipython3",
   "version": "3.10.0"
  }
 },
 "nbformat": 4,
 "nbformat_minor": 2
}

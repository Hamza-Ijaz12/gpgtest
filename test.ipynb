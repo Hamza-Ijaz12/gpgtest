{
 "cells": [
  {
   "cell_type": "code",
   "execution_count": 17,
   "metadata": {},
   "outputs": [],
   "source": [
    "# utils.py\n",
    "import gnupg\n",
    "gpg = gnupg.GPG()"
   ]
  },
  {
   "cell_type": "code",
   "execution_count": 18,
   "metadata": {},
   "outputs": [],
   "source": [
    "def encrypt_message(public_key_path, message):\n",
    "    public_key = gpg.import_keys_file(public_key_path)\n",
    "    if not public_key.results or 'fingerprint' not in public_key.results[0]:\n",
    "        return \"Error importing public key\"\n",
    "\n",
    "    fingerprint = public_key.results[0]['fingerprint']\n",
    "    \n",
    "    # Encrypt the message \n",
    "    encrypted_data = gpg.encrypt(message, fingerprint,always_trust=True)\n",
    "    if encrypted_data.ok:\n",
    "        return str(encrypted_data)\n",
    "    else:\n",
    "        print('Encrypted message:', encrypted_data.status)\n",
    "        return str(encrypted_data.status)"
   ]
  },
  {
   "cell_type": "code",
   "execution_count": 19,
   "metadata": {},
   "outputs": [
    {
     "name": "stdout",
     "output_type": "stream",
     "text": [
      "-----BEGIN PGP MESSAGE-----\n",
      "\n",
      "hIwD1ty15xHgZq0BA/4rxZrcgQ8RLLZ4kCjigNLeTd2NZ+x/9nGu9d40pG4YjoNV\n",
      "hwLSjAptds774Nh944R7L3OHhjnYiRqmiQNUOrJBVrIy9K48YosKpzKk5dErsKNK\n",
      "vm59em7rB6aic2TfMcwrpKtchp0kHF6psIHFaInDvxqeEAThMHmAvtYgPbYwBNJA\n",
      "Ae3VtRI5P6JtCGZBToi3VLL9t/fu3wMJ0ud9ShX7qaJUJFazK4nsRC1/jsSMNeSg\n",
      "f166iu1aaJ7+HWMhMvwQQQ==\n",
      "=okzX\n",
      "-----END PGP MESSAGE-----\n",
      "\n"
     ]
    }
   ],
   "source": [
    "en_message = encrypt_message('simple.asc',\"Hello world\")\n",
    "print(en_message)"
   ]
  },
  {
   "cell_type": "code",
   "execution_count": 20,
   "metadata": {},
   "outputs": [],
   "source": [
    "def decrypt_message( encrypted_message, passphrase):\n",
    "    decrypted_data = gpg.decrypt(encrypted_message, passphrase=passphrase)\n",
    "    if decrypted_data.ok:\n",
    "        return str(decrypted_data)\n",
    "    else:\n",
    "        print('Encrypted message:', decrypted_data.status)\n",
    "        print('Decryption failed:', decrypted_data.status)\n",
    "        print('Error message:', decrypted_data.stderr)\n",
    "        decrypted_data=False\n",
    "        return decrypted_data"
   ]
  },
  {
   "cell_type": "code",
   "execution_count": 21,
   "metadata": {},
   "outputs": [
    {
     "name": "stdout",
     "output_type": "stream",
     "text": [
      "Encrypted message: no secret key\n",
      "Decryption failed: no secret key\n",
      "Error message: [GNUPG:] ENC_TO D6DCB5E711E066AD 1 0\n",
      "gpg: encrypted with 1024-bit RSA key, ID 11E066AD, created 2024-01-31\n",
      "      \"Ibrahim <ibrahim.murad009@gmail.com>\"\n",
      "[GNUPG:] NO_SECKEY D6DCB5E711E066AD\n",
      "[GNUPG:] BEGIN_DECRYPTION\n",
      "[GNUPG:] DECRYPTION_FAILED\n",
      "gpg: decryption failed: secret key not available\n",
      "[GNUPG:] END_DECRYPTION\n",
      "\n",
      "False\n"
     ]
    }
   ],
   "source": [
    "print(decrypt_message(en_message,'asdfg'))"
   ]
  },
  {
   "cell_type": "code",
   "execution_count": 28,
   "metadata": {},
   "outputs": [
    {
     "name": "stdout",
     "output_type": "stream",
     "text": [
      "[{'type': 'sec', 'trust': '', 'length': '1024', 'algo': '1', 'keyid': '142D8EA226F49115', 'date': '1706661117', 'expires': '', 'dummy': '', 'ownertrust': '', 'sig': '', 'cap': '', 'issuer': '', 'flag': '', 'token': '', 'hash': '', 'curve': 'unavailable', 'compliance': 'unavailable', 'updated': 'unavailable', 'origin': 'unavailable', 'keygrip': 'unavailable', 'uids': ['Ibrahim <ibrahim.murad009@gmail.com>'], 'sigs': [], 'subkeys': [['D6DCB5E711E066AD', None, 'B71DDCC5AA70355BB7737700D6DCB5E711E066AD', None], ['01B38739203FC934', None, 'D9752C42FBE0F04BAC6FB7E001B38739203FC934', None]], 'fingerprint': 'AD4BB37AF5E623D6BBB416AC142D8EA226F49115', 'subkey_info': {'D6DCB5E711E066AD': {'type': 'ssb', 'trust': '', 'length': '1024', 'algo': '1', 'keyid': 'D6DCB5E711E066AD', 'date': '1706661117', 'expires': '', 'dummy': '', 'ownertrust': '', 'uid': '', 'sig': '', 'cap': '', 'issuer': '', 'flag': '', 'token': '', 'hash': '', 'curve': 'unavailable', 'compliance': 'unavailable', 'updated': 'unavailable', 'origin': 'unavailable', 'keygrip': 'unavailable'}, '01B38739203FC934': {'type': 'ssb', 'trust': '', 'length': '1024', 'algo': '1', 'keyid': '01B38739203FC934', 'date': '1706661117', 'expires': '', 'dummy': '', 'ownertrust': '', 'uid': '', 'sig': '', 'cap': '', 'issuer': '', 'flag': '', 'token': '', 'hash': '', 'curve': 'unavailable', 'compliance': 'unavailable', 'updated': 'unavailable', 'origin': 'unavailable', 'keygrip': 'unavailable'}}}]\n"
     ]
    }
   ],
   "source": [
    "import gnupg\n",
    "\n",
    "gpg = gnupg.GPG()\n",
    "print(gpg.list_keys(secret=True))\n"
   ]
  },
  {
   "cell_type": "code",
   "execution_count": 24,
   "metadata": {},
   "outputs": [],
   "source": [
    "def import_secret_key(gpg, key_path):\n",
    "    with open(key_path, 'rb') as f:\n",
    "        key_data = f.read()\n",
    "    import_result = gpg.import_keys(key_data)\n",
    "    if import_result:\n",
    "        print(\"Key imported successfully. Key count:\", len(import_result.fingerprints))\n",
    "    else:\n",
    "        print(\"Failed to import key.\")"
   ]
  },
  {
   "cell_type": "code",
   "execution_count": 34,
   "metadata": {},
   "outputs": [
    {
     "name": "stdout",
     "output_type": "stream",
     "text": [
      "Key imported successfully. Key count: 2\n"
     ]
    }
   ],
   "source": [
    "import_secret_key(gpg,'num_sec.asc')"
   ]
  },
  {
   "cell_type": "code",
   "execution_count": 36,
   "metadata": {},
   "outputs": [
    {
     "name": "stdout",
     "output_type": "stream",
     "text": [
      "Encrypted Message:\n",
      " -----BEGIN PGP MESSAGE-----\n",
      "\n",
      "hIwD5r1CXLR09+8BBACea3Q4N11n3utvrLprGRpoWJPiFVjKvjtnAgzbtM7ay119\n",
      "t4zPnUNXlldxEyUuZmESFn/bmmrRkHB8LolqAwWdy5tZkB9OLh2If6uptvFi2dca\n",
      "V/aOtc38FDcP7fYhq7vXWjYtCpt7pG4ijnQXRnSFSjaFW/f8foCQM9MTXbf45tJA\n",
      "AYvBB9wNNu2eeBBh21zs17ju4srAW1QwxDy0nLEa1RZeXZGnhSRSJw885OFttWUO\n",
      "4nWotU4D+71c261hzphejQ==\n",
      "=bhCX\n",
      "-----END PGP MESSAGE-----\n",
      "\n",
      "Decrypted Message:\n",
      " Hello, GPG!\n"
     ]
    }
   ],
   "source": [
    "\n",
    "\n",
    "# Path to your public and private keyring (if not default)\n",
    "# gpg = gnupg.GPG(gnupghome='/path/to/your/keyring')\n",
    "\n",
    "def encrypt_message(public_key_path, message):\n",
    "    # Import public key\n",
    "    with open(public_key_path, 'rb') as f:\n",
    "        key_data = f.read()\n",
    "    import_result = gpg.import_keys(key_data)\n",
    "    \n",
    "    if not import_result:\n",
    "        return \"Error importing public key\"\n",
    "    \n",
    "    fingerprint = import_result.fingerprints[0]\n",
    "    \n",
    "    # Encrypt the message\n",
    "    encrypted_data = gpg.encrypt(message, fingerprint, always_trust=True)\n",
    "    if encrypted_data.ok:\n",
    "        return str(encrypted_data)\n",
    "    else:\n",
    "        return f\"Error encrypting message: {encrypted_data.status}\"\n",
    "\n",
    "def decrypt_message(encrypted_message, passphrase):\n",
    "    # Decrypt the message\n",
    "    decrypted_data = gpg.decrypt(encrypted_message, passphrase=passphrase)\n",
    "    if decrypted_data.ok:\n",
    "        return str(decrypted_data)\n",
    "    else:\n",
    "        return f\"Decryption failed: {decrypted_data.status}, {decrypted_data.stderr}\"\n",
    "\n",
    "# Paths to your public and private keys\n",
    "public_key_path = 'num_pub.asc'\n",
    "private_key_path = 'num_sec.asc' # Note: This is not used directly in code but assumed to be in your keyring\n",
    "\n",
    "# Your passphrase for the private key\n",
    "passphrase = 'asdf123'\n",
    "\n",
    "# The message you want to encrypt\n",
    "message = 'Hello, GPG!'\n",
    "\n",
    "# Encrypt the message\n",
    "encrypted_message = encrypt_message(public_key_path, message)\n",
    "print(\"Encrypted Message:\\n\", encrypted_message)\n",
    "\n",
    "# Decrypt the message\n",
    "# Make sure the private key corresponding to the public key is imported to your keyring\n",
    "decrypted_message = decrypt_message(encrypted_message, passphrase)\n",
    "print(\"Decrypted Message:\\n\", decrypted_message)\n"
   ]
  }
 ],
 "metadata": {
  "kernelspec": {
   "display_name": "env",
   "language": "python",
   "name": "python3"
  },
  "language_info": {
   "codemirror_mode": {
    "name": "ipython",
    "version": 3
   },
   "file_extension": ".py",
   "mimetype": "text/x-python",
   "name": "python",
   "nbconvert_exporter": "python",
   "pygments_lexer": "ipython3",
   "version": "3.10.0"
  }
 },
 "nbformat": 4,
 "nbformat_minor": 2
}
